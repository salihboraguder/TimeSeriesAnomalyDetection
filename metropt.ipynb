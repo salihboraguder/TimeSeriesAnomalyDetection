{
 "cells": [
  {
   "cell_type": "code",
   "execution_count": 79,
   "metadata": {},
   "outputs": [],
   "source": [
    "import numpy as np\n",
    "import pandas as pd\n",
    "import matplotlib.pyplot as plt\n",
    "import seaborn as sns\n"
   ]
  },
  {
   "cell_type": "code",
   "execution_count": 71,
   "metadata": {},
   "outputs": [],
   "source": [
    "def read_and_preprocess(path):\n",
    "    df = pd.read_csv(path)\n",
    "    df.drop(\"Unnamed: 0\",axis=1,inplace=True)\n",
    "    df[\"Failure\"] = 0\n",
    "    df.timestamp = pd.to_datetime(df.timestamp)\n",
    "    df = df.set_index(\"timestamp\")\n",
    "    df.loc[\"2020-04-18 00:00:00\":\"2020-04-18 23:59:00\",\"Failure\"] = 1\n",
    "    df.loc[\"2020-05-29 23:30:00\":\"2020-05-30 06:00:00\",\"Failure\"] = 1\n",
    "    df.loc[\"2020-06-05 10:00:00\":\"2020-06-07 14:30:00\",\"Failure\"] = 1\n",
    "    df.loc[\"2020-07-15 14:30:00\":\"2020-07-15 19:00:00\",\"Failure\"] = 1\n",
    "    print(\"Reading and preprocess is successful!\")\n",
    "    return df"
   ]
  },
  {
   "cell_type": "code",
   "execution_count": 72,
   "metadata": {},
   "outputs": [
    {
     "name": "stdout",
     "output_type": "stream",
     "text": [
      "Reading and preprocess is successful!\n"
     ]
    }
   ],
   "source": [
    "data = read_and_preprocess(\"MetroPT3(AirCompressor).csv\")"
   ]
  },
  {
   "cell_type": "code",
   "execution_count": 78,
   "metadata": {},
   "outputs": [
    {
     "data": {
      "text/plain": [
       "1.974622729322297"
      ]
     },
     "execution_count": 78,
     "metadata": {},
     "output_type": "execute_result"
    }
   ],
   "source": [
    "data.Failure.value_counts()[1]*100/len(data)"
   ]
  },
  {
   "cell_type": "code",
   "execution_count": null,
   "metadata": {},
   "outputs": [],
   "source": []
  }
 ],
 "metadata": {
  "kernelspec": {
   "display_name": "base",
   "language": "python",
   "name": "python3"
  },
  "language_info": {
   "codemirror_mode": {
    "name": "ipython",
    "version": 3
   },
   "file_extension": ".py",
   "mimetype": "text/x-python",
   "name": "python",
   "nbconvert_exporter": "python",
   "pygments_lexer": "ipython3",
   "version": "3.10.12"
  }
 },
 "nbformat": 4,
 "nbformat_minor": 2
}
